{
 "cells": [
  {
   "cell_type": "code",
   "execution_count": 3,
   "metadata": {},
   "outputs": [],
   "source": [
    "import numpy as np\n",
    "import sympy as sy \n",
    "from sympy.interactive import printing\n",
    "printing.init_printing(use_latex=True)\n",
    "from sympy import *\n",
    "from sympy.abc import x, y, a, b, c\n",
    "from scipy import integrate"
   ]
  },
  {
   "cell_type": "code",
   "execution_count": 4,
   "metadata": {},
   "outputs": [],
   "source": [
    "def f(x):\n",
    "\treturn 5*x**5 - 3*x**2 -17"
   ]
  },
  {
   "cell_type": "code",
   "execution_count": 5,
   "metadata": {},
   "outputs": [],
   "source": [
    "x = sy.Symbol('x')\n",
    "a = sy.Function('a')(x)"
   ]
  },
  {
   "cell_type": "code",
   "execution_count": 6,
   "metadata": {},
   "outputs": [
    {
     "data": {
      "image/png": "[encoded data removed]",
      "text/latex": [
       "$\\displaystyle 5 x^{5} - 3 x^{2} - 17$"
      ],
      "text/plain": [
       "   5      2     \n",
       "5⋅x  - 3⋅x  - 17"
      ]
     },
     "metadata": {},
     "output_type": "display_data"
    },
    {
     "data": {
      "image/png": "[encoded data removed]",
      "text/latex": [
       "$\\displaystyle 25 x^{4} - 6 x$"
      ],
      "text/plain": [
       "    4      \n",
       "25⋅x  - 6⋅x"
      ]
     },
     "execution_count": 6,
     "metadata": {},
     "output_type": "execute_result"
    }
   ],
   "source": [
    "display(f(x))\n",
    "sy.diff(f(x), x)"
   ]
  },
  {
   "cell_type": "code",
   "execution_count": 7,
   "metadata": {},
   "outputs": [
    {
     "data": {
      "image/png": "[encoded data removed]",
      "text/latex": [
       "$\\displaystyle 5 x^{5} - 3 x^{2} - 17$"
      ],
      "text/plain": [
       "   5      2     \n",
       "5⋅x  - 3⋅x  - 17"
      ]
     },
     "metadata": {},
     "output_type": "display_data"
    },
    {
     "data": {
      "image/png": "[encoded data removed]",
      "text/latex": [
       "$\\displaystyle \\frac{5 x^{6}}{6} - x^{3} - 17 x$"
      ],
      "text/plain": [
       "   6            \n",
       "5⋅x     3       \n",
       "──── - x  - 17⋅x\n",
       " 6              "
      ]
     },
     "execution_count": 7,
     "metadata": {},
     "output_type": "execute_result"
    }
   ],
   "source": [
    "display(f(x))\n",
    "sy.integrate(f(x), x)"
   ]
  },
  {
   "cell_type": "code",
   "execution_count": 8,
   "metadata": {},
   "outputs": [
    {
     "data": {
      "image/png": "[encoded data removed]",
      "text/latex": [
       "$\\displaystyle - 5 a{\\left(x \\right)} + \\frac{d^{2}}{d x^{2}} a{\\left(x \\right)} = 10$"
      ],
      "text/plain": [
       "            2           \n",
       "           d            \n",
       "-5⋅a(x) + ───(a(x)) = 10\n",
       "            2           \n",
       "          dx            "
      ]
     },
     "metadata": {},
     "output_type": "display_data"
    },
    {
     "data": {
      "image/png": "[encoded data removed]",
      "text/latex": [
       "$\\displaystyle a{\\left(x \\right)} = C_{1} e^{- \\sqrt{5} x} + C_{2} e^{\\sqrt{5} x} - 2$"
      ],
      "text/plain": [
       "           -√5⋅x       √5⋅x    \n",
       "a(x) = C₁⋅ℯ      + C₂⋅ℯ     - 2"
      ]
     },
     "execution_count": 8,
     "metadata": {},
     "output_type": "execute_result"
    }
   ],
   "source": [
    "ode_one = Eq(a.diff(x,x) - 5*a, 10)\n",
    "display(ode_one)\n",
    "dsolve(ode_one,a)"
   ]
  },
  {
   "cell_type": "code",
   "execution_count": 9,
   "metadata": {},
   "outputs": [
    {
     "data": {
      "image/png": "[encoded data removed]",
      "text/latex": [
       "$\\displaystyle b \\frac{\\partial}{\\partial y} g{\\left(x,y \\right)} + c g{\\left(x,y \\right)} + a{\\left(x \\right)} \\frac{\\partial}{\\partial x} g{\\left(x,y \\right)}$"
      ],
      "text/plain": [
       "  ∂                              ∂          \n",
       "b⋅──(g(x, y)) + c⋅g(x, y) + a(x)⋅──(g(x, y))\n",
       "  ∂y                             ∂x         "
      ]
     },
     "metadata": {},
     "output_type": "display_data"
    },
    {
     "data": {
      "image/png": "[encoded data removed]",
      "text/latex": [
       "$\\displaystyle g{\\left(x,y \\right)} = \\left(F{\\left(- b \\int \\frac{1}{a{\\left(x \\right)}}\\, dx + y \\right)}\\right) e^{- c \\int \\frac{1}{a{\\left(x \\right)}}\\, dx}$"
      ],
      "text/plain": [
       "                                   ⌠        \n",
       "                                   ⎮  1     \n",
       "                                -c⋅⎮ ──── dx\n",
       "           ⎛    ⌠            ⎞     ⎮ a(x)   \n",
       "           ⎜    ⎮  1         ⎟     ⌡        \n",
       "g(x, y) = F⎜- b⋅⎮ ──── dx + y⎟⋅ℯ            \n",
       "           ⎜    ⎮ a(x)       ⎟              \n",
       "           ⎝    ⌡            ⎠              "
      ]
     },
     "execution_count": 9,
     "metadata": {},
     "output_type": "execute_result"
    }
   ],
   "source": [
    "g = Function('g')\n",
    "u = g(x,y)\n",
    "ux = u.diff(x)\n",
    "uy = u.diff(y)\n",
    "pde_one = a*ux + b*uy + c*u\n",
    "display(pde_one)\n",
    "pdsolve(pde_one)"
   ]
  },
  {
   "cell_type": "code",
   "execution_count": 10,
   "metadata": {},
   "outputs": [
    {
     "name": "stdout",
     "output_type": "stream",
     "text": [
      "(0.33333333333333337, 3.700743415417189e-15)\n"
     ]
    }
   ],
   "source": [
    "f = lambda x : x**2\n",
    "integration = integrate.quad(f, 0 , 1)\n",
    "print(integration)"
   ]
  },
  {
   "cell_type": "code",
   "execution_count": null,
   "metadata": {},
   "outputs": [],
   "source": []
  }
 ],
 "metadata": {
  "kernelspec": {
   "display_name": "Python 3",
   "language": "python",
   "name": "python3"
  },
  "language_info": {
   "codemirror_mode": {
    "name": "ipython",
    "version": 3
   },
   "file_extension": ".py",
   "mimetype": "text/x-python",
   "name": "python",
   "nbconvert_exporter": "python",
   "pygments_lexer": "ipython3",
   "version": "3.6.7"
  }
 },
 "nbformat": 4,
 "nbformat_minor": 2
}
