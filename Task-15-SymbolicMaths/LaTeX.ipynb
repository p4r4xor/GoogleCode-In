{
 "cells": [
  {
   "cell_type": "markdown",
   "metadata": {},
   "source": [
    "Function chosen for computing the derivative and indefinite integral.\n",
    "\n",
    "$f(x) = {5x^5 - 3x^2 -17}$\n",
    "\n",
    "Derivative:\n",
    "\n",
    "$f'(x) = {25x^4 - 6x}$\n",
    "\n",
    "Indefinite integral:\n",
    "\n",
    "$\\int f(x) = {\\frac{5x^6}{6} - x^3 - 17x}$\n",
    "\n",
    "Ordinary differential equation (2nd order):\n",
    "\n",
    "${-5a(x) + a''(x) = 10}$\n",
    "\n",
    "Solution of the ODE:\n",
    "\n",
    "$a(x) = {C_1 e^{-\\sqrt5 x} + C_2 e^{\\sqrt5 x} -2}$\n",
    "\n",
    "Partial differential equation:\n",
    "\n",
    "$b\\frac{\\partial g(x,y)}{\\partial y} + cg(x,y) + a(x)\\frac{\\partial g(x,y)}{\\partial x}$\n",
    "\n",
    "\n",
    "Solution of the PDE:\n",
    "\n",
    "$g(x,y) = \\bigg(F\\bigg(-b \\int \\frac{1}{a(x)} dx +y \\bigg)\\bigg) e^{-c \\int \\frac{1}{a(x)}dx}$\n",
    "\n",
    "Function chosen for computing Definite integral:\n",
    "\n",
    "$f(x) = {x^2}$\n",
    "\n",
    "Answer:\n",
    "\n",
    "$\\int_0^1 f(x) = 0.3333333333333337$ "
   ]
  },
  {
   "cell_type": "code",
   "execution_count": null,
   "metadata": {},
   "outputs": [],
   "source": []
  }
 ],
 "metadata": {
  "kernelspec": {
   "display_name": "Python 3",
   "language": "python",
   "name": "python3"
  },
  "language_info": {
   "codemirror_mode": {
    "name": "ipython",
    "version": 3
   },
   "file_extension": ".py",
   "mimetype": "text/x-python",
   "name": "python",
   "nbconvert_exporter": "python",
   "pygments_lexer": "ipython3",
   "version": "3.6.7"
  }
 },
 "nbformat": 4,
 "nbformat_minor": 2
}
